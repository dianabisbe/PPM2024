{
 "cells": [
  {
   "cell_type": "markdown",
   "metadata": {},
   "source": [
    "## PPM - Python API y Power BI demo"
   ]
  },
  {
   "cell_type": "markdown",
   "metadata": {},
   "source": [
    "Data Set de viviendas\n",
    "- metros cuadrados\n",
    "- número de habitaciones\n",
    "- precio por mes"
   ]
  },
  {
   "cell_type": "code",
   "execution_count": 2,
   "metadata": {},
   "outputs": [
    {
     "data": {
      "text/html": [
       "<div>\n",
       "<style scoped>\n",
       "    .dataframe tbody tr th:only-of-type {\n",
       "        vertical-align: middle;\n",
       "    }\n",
       "\n",
       "    .dataframe tbody tr th {\n",
       "        vertical-align: top;\n",
       "    }\n",
       "\n",
       "    .dataframe thead th {\n",
       "        text-align: right;\n",
       "    }\n",
       "</style>\n",
       "<table border=\"1\" class=\"dataframe\">\n",
       "  <thead>\n",
       "    <tr style=\"text-align: right;\">\n",
       "      <th></th>\n",
       "      <th>square_meters</th>\n",
       "      <th>number_of_rooms</th>\n",
       "      <th>price_per_month</th>\n",
       "    </tr>\n",
       "  </thead>\n",
       "  <tbody>\n",
       "    <tr>\n",
       "      <th>0</th>\n",
       "      <td>80</td>\n",
       "      <td>2</td>\n",
       "      <td>800</td>\n",
       "    </tr>\n",
       "    <tr>\n",
       "      <th>1</th>\n",
       "      <td>100</td>\n",
       "      <td>3</td>\n",
       "      <td>1000</td>\n",
       "    </tr>\n",
       "    <tr>\n",
       "      <th>2</th>\n",
       "      <td>120</td>\n",
       "      <td>3</td>\n",
       "      <td>1100</td>\n",
       "    </tr>\n",
       "    <tr>\n",
       "      <th>3</th>\n",
       "      <td>150</td>\n",
       "      <td>4</td>\n",
       "      <td>1300</td>\n",
       "    </tr>\n",
       "    <tr>\n",
       "      <th>4</th>\n",
       "      <td>200</td>\n",
       "      <td>5</td>\n",
       "      <td>1500</td>\n",
       "    </tr>\n",
       "  </tbody>\n",
       "</table>\n",
       "</div>"
      ],
      "text/plain": [
       "   square_meters  number_of_rooms  price_per_month\n",
       "0             80                2              800\n",
       "1            100                3             1000\n",
       "2            120                3             1100\n",
       "3            150                4             1300\n",
       "4            200                5             1500"
      ]
     },
     "execution_count": 2,
     "metadata": {},
     "output_type": "execute_result"
    }
   ],
   "source": [
    "import pandas as pd \n",
    "\n",
    "df_housing = pd.read_csv('Data/housing_data.csv')\n",
    "\n",
    "df_housing.head()"
   ]
  },
  {
   "cell_type": "markdown",
   "metadata": {},
   "source": [
    "## Configuración"
   ]
  },
  {
   "cell_type": "markdown",
   "metadata": {},
   "source": [
    "1. Añade el proyecto al path del sistema y luego importa la aplicación\n",
    "2. Guarda este archivo y regresa a la pestaña Web"
   ]
  },
  {
   "cell_type": "code",
   "execution_count": null,
   "metadata": {},
   "outputs": [],
   "source": [
    "import sys\n",
    "\n",
    "# Se añade la ruta del proyecto al path de python\n",
    "project_home = u'/home/dianabisbe/ppm_python_api_demo'\n",
    "if project_home not in sys.path:\n",
    "    sys.path = [project_home] + sys.path\n",
    "\n",
    "# se importa la aplicación de Flask\n",
    "from SimpleRecommendation import app as application"
   ]
  },
  {
   "cell_type": "markdown",
   "metadata": {},
   "source": [
    "## Comprobar API"
   ]
  },
  {
   "cell_type": "code",
   "execution_count": 18,
   "metadata": {},
   "outputs": [
    {
     "name": "stdout",
     "output_type": "stream",
     "text": [
      "[{\"row\": 1, \"group\": 0}, {\"row\": 2, \"group\": 1}, {\"row\": 3, \"group\": 2}, {\"row\": 4, \"group\": 0}, {\"row\": 5, \"group\": 0}, {\"row\": 6, \"group\": 0}, {\"row\": 7, \"group\": 0}, {\"row\": 8, \"group\": 1}, {\"row\": 9, \"group\": 2}, {\"row\": 10, \"group\": 0}, {\"row\": 11, \"group\": 0}, {\"row\": 12, \"group\": 0}, {\"row\": 13, \"group\": 0}, {\"row\": 14, \"group\": 0}, {\"row\": 15, \"group\": 1}, {\"row\": 16, \"group\": 0}, {\"row\": 17, \"group\": 1}, {\"row\": 18, \"group\": 1}]\n"
     ]
    }
   ],
   "source": [
    "import pandas as pd\n",
    "import requests\n",
    "\n",
    "# Leer el archivo CSV y preparar los datos\n",
    "data = pd.read_csv(\"C:/Users/Diana/source/PPM2024/Data/housing_data.csv\")\n",
    "payload = data.to_dict(orient=\"records\")\n",
    "# URL de la API\n",
    "api_url = \"https://dianabisbe.pythonanywhere.com/HousingClustering\"\n",
    "# Configurar la solicitud HTTP\n",
    "headers = {\"Content-Type\": \"application/json\", \"Accept\": \"application/json\"}\n",
    "response = requests.post(api_url, json=payload, headers=headers)\n",
    "# Verificar si la solicitud fue exitosa\n",
    "if response.status_code == 200:\n",
    "    # Extraer los resultados del clustering\n",
    "    results = response.json()\n",
    "    print(results)\n",
    "else:\n",
    "    print(\"Error:\", response.status_code)\n",
    "    print (response.text)"
   ]
  },
  {
   "cell_type": "code",
   "execution_count": null,
   "metadata": {},
   "outputs": [],
   "source": [
    "# let\n",
    "#     // Read in input csv\n",
    "#     Source = Csv.Document(\n",
    "#         File.Contents(\"D:\\data.csv\"),\n",
    "#         [\n",
    "#             Delimiter=\",\", \n",
    "#             Columns=3, \n",
    "#             Encoding=1252, \n",
    "#             QuoteStyle=QuoteStyle.None\n",
    "#         ]\n",
    "#     ),\n",
    "\n",
    "#     // Promote headers and update types\n",
    "#     headers_promoted = Table.PromoteHeaders(\n",
    "#         Source, \n",
    "#         [PromoteAllScalars=true]\n",
    "#     ),\n",
    "#     type_changes = Table.TransformColumnTypes(\n",
    "#         headers_promoted,\n",
    "#         {\n",
    "#             {\"square_meters\", Int64.Type}, \n",
    "#             {\"number_of_rooms\", Int64.Type}, \n",
    "#             {\"price_per_month\", Int64.Type}\n",
    "#         }\n",
    "#     ),\n",
    "\n",
    "#     // Build API Parms\n",
    "#     api_url = \"https://dianabisbe.pythonanywhere.com/HousingClustering\",\n",
    "#     content_input = Json.FromValue(type_changes),\n",
    "#     header = [\n",
    "#         #\"Content-Type\"=\"application/json\", \n",
    "#         #\"accept\"=\"application/json\"\n",
    "#     ],\n",
    "\n",
    "#     // Make API call\n",
    "#     web_results = Json.Document(\n",
    "#         Web.Contents(\n",
    "#             api_url, \n",
    "#             [Content=content_input]\n",
    "#         )\n",
    "#     ),\n",
    "\n",
    "#     // Convert api results to a table\n",
    "#     json_doc = Json.Document(web_results),\n",
    "#     table_from_list = Table.FromRecords(json_doc),\n",
    "#     update_types = Table.TransformColumnTypes(\n",
    "#         table_from_list, \n",
    "#         {\n",
    "#             {\"row\", Int64.Type}, \n",
    "#             {\"group\", Int64.Type}\n",
    "#         }\n",
    "#     ),\n",
    "\n",
    "#     // Join source and results\n",
    "#     idx = Table.AddIndexColumn(\n",
    "#         type_changes, \n",
    "#         \"Index\",  // Col Name\n",
    "#         1,        // Initial\n",
    "#         1,        // Increment\n",
    "#         Int64.Type\n",
    "#     ),\n",
    "#     joined_tables = Table.Join(\n",
    "#         idx,      // Table 1\n",
    "#         \"Index\",  // Join Col 1\n",
    "#         update_types, // Table 2\n",
    "#         \"row\"         // Join Col 2\n",
    "#     ),\n",
    "#     final_cols = Table.RemoveColumns(\n",
    "#         joined_tables, \n",
    "#         {\"Index\", \"row\"}\n",
    "#     )\n",
    "\n",
    "# in\n",
    "#    final_cols"
   ]
  }
 ],
 "metadata": {
  "kernelspec": {
   "display_name": "Python 3",
   "language": "python",
   "name": "python3"
  },
  "language_info": {
   "codemirror_mode": {
    "name": "ipython",
    "version": 3
   },
   "file_extension": ".py",
   "mimetype": "text/x-python",
   "name": "python",
   "nbconvert_exporter": "python",
   "pygments_lexer": "ipython3",
   "version": "3.12.3"
  }
 },
 "nbformat": 4,
 "nbformat_minor": 2
}
